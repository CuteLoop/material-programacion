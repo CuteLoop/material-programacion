{
 "cells": [
  {
   "attachments": {},
   "cell_type": "markdown",
   "metadata": {},
   "source": [
    "<a href=\"https://colab.research.google.com/github/juliowaissman/curso-python-cd/blob/main/intro-python.ipynb\" target=\"_parent\"><img src=\"https://colab.research.google.com/assets/colab-badge.svg\" alt=\"Open In Colab\"/></a>"
   ]
  },
  {
   "attachments": {},
   "cell_type": "markdown",
   "metadata": {},
   "source": [
    "<center>\n",
    "<p><img src=\"https://mcd.unison.mx/wp-content/themes/awaken/img/logo_mcd.png\" width=\"100\">\n",
    "</p>\n",
    "\n",
    "\n",
    "\n",
    "# Curso Propedéutico en *Programación*\n",
    "\n",
    "## Introducción a `python` resolviendo preguntas\n",
    "\n",
    "\n",
    "<p> Julio Waissman Vilanova </p>\n",
    "<p>\n",
    "<img src=\"https://identidadbuho.unison.mx/wp-content/uploads/2019/06/letragrama-cmyk-72.jpg\" width=\"200\">\n",
    "</p>\n",
    "</center>\n",
    "\n"
   ]
  },
  {
   "attachments": {},
   "cell_type": "markdown",
   "metadata": {},
   "source": [
    "### Tipos\n",
    "\n",
    "¿Cuales son los tipos de datos básicos? Revisa los tipos siguientes:\n",
    "\n",
    "1. Tipos numéricos `int`, `float`, `complex`\n",
    "2. Cadenas de caracteres\n",
    "3. Tuplas\n",
    "4. Listas\n",
    "5. Diccionarios\n",
    "6. Conjuntos\n",
    "\n",
    "Da ejemplo de sobrecarga de operadores (en particular `+` y `*`)\n",
    "\n"
   ]
  },
  {
   "cell_type": "code",
   "execution_count": 7,
   "metadata": {},
   "outputs": [
    {
     "name": "stdout",
     "output_type": "stream",
     "text": [
      "(3, 5)\n",
      "(2, 6)\n"
     ]
    }
   ],
   "source": [
    "class vector(object):\n",
    "    def __init__(self,x,y):\n",
    "        self.x = x\n",
    "        self.y = y\n",
    "    def __add__(self,other):\n",
    "        return (self.x + other.x, self.y + other.y)\n",
    "    def __mul__(self,other):\n",
    "        return (self.x * other.x, self.y * other.y)\n",
    "   \n",
    "a=vector(1,2)\n",
    "b=vector(2,3)\n",
    "\n",
    "print(a+b)\n",
    "print(a*b)"
   ]
  },
  {
   "cell_type": "markdown",
   "metadata": {},
   "source": []
  },
  {
   "attachments": {},
   "cell_type": "markdown",
   "metadata": {},
   "source": [
    "¿Que significa que unos tipos sean *mutables* y otros *inmutables*? \n",
    "\n",
    "Realiza un pequeño programa donde quede claro lo que significa que un tipo de datos sea mutable, e ilustra el uso del método `copy.deepcopy()`. "
   ]
  },
  {
   "cell_type": "code",
   "execution_count": 59,
   "metadata": {},
   "outputs": [
    {
     "name": "stdout",
     "output_type": "stream",
     "text": [
      "[1, 1, 1, 5]\n",
      "[2, 2, 2]\n",
      "Otro ejemplo...\n",
      "1 [5]\n",
      "Entonces vemos como la lista si es mutable... y al cambiar su valor dentro de la función también cambio afuera...\n",
      "Copy y Copy deep...\n",
      "k:  [6, [7, 2, 3], 2]\n",
      "2385443355264 2385443355264\n",
      "k copy:  [6, [8, 2, 3], 2]\n",
      "2385443355264 2385444588480\n",
      "k deep copy:  [8, [8, 2, 3], 2]\n",
      "2385443355264 2385443744576\n",
      "t1\n"
     ]
    }
   ],
   "source": [
    "import copy\n",
    "# Datos mutables...\n",
    "a=[1,1,1]\n",
    "b=[]\n",
    "\n",
    "b=a\n",
    "\n",
    "b=[2,2,2]\n",
    "\n",
    "a.append(5)\n",
    "\n",
    "\n",
    "print(a)\n",
    "print(b)\n",
    "\n",
    "\n",
    "# Otro...\n",
    "\n",
    "print(\"Otro ejemplo...\")\n",
    "\n",
    "def funcion5(a,b):\n",
    "    a=5\n",
    "    b[0]=5\n",
    "\n",
    "x=1\n",
    "y=[2]\n",
    "\n",
    "funcion5(x,y)\n",
    "\n",
    "print(x,y)\n",
    "print(\"Entonces vemos como la lista si es mutable... y al cambiar su valor dentro de la función también cambio afuera...\")\n",
    "\n",
    "\n",
    "# Copy y Copydeep:\n",
    "print(\"Copy y Copy deep...\")\n",
    "j=[1,[1,2,3],2]\n",
    "k=j\n",
    "\n",
    "j[0]=6\n",
    "j[1][0]=7\n",
    "\n",
    "print(\"k: \",k)\n",
    "print(id(j), id(k))\n",
    "\n",
    "k=copy.copy(j)\n",
    "j[0]=8\n",
    "j[1][0]=8\n",
    "print(\"k copy: \",k)\n",
    "print(id(j), id(k))\n",
    "# Se ha garantizado una copia inalterable de los datos del primer nivel, pero no del segundo...\n",
    "\n",
    "k=copy.deepcopy(j)\n",
    "j[0]=9\n",
    "j[1][0]=9\n",
    "print(\"k deep copy: \",k)\n",
    "print(id(j), id(k))\n",
    "# Se ha garantizado una copia inalterable de los datos de todos los niveles, pero no del segundo...\n",
    "\n",
    "# Tupla... inmutable...\n",
    "t=(\"t1\",\"t2\",\"t3\")\n",
    "\n",
    "print(t[0])\n",
    "# esto dara error...\n",
    "#t[0]=\"m1\""
   ]
  },
  {
   "attachments": {},
   "cell_type": "markdown",
   "metadata": {},
   "source": [
    "### *Comprehension* de listas, conjuntos y diccionarios \n",
    "\n",
    "Escribe, en una sola linea, una expresión que genere una lista con todos los números enteros que se encuentran entre $1$ y $n$ \n",
    "que sean divisibles por $2$, $3$ y $7$ y que el dígito menos significativo del número sea $2$."
   ]
  },
  {
   "cell_type": "code",
   "execution_count": 70,
   "metadata": {},
   "outputs": [
    {
     "name": "stdout",
     "output_type": "stream",
     "text": [
      "[21, 42, 63, 84, 105, 126, 147, 168, 189, 210, 231, 252, 273, 294, 315, 336, 357, 378, 399, 420, 441, 462, 483, 504, 525, 546, 567, 588, 609, 630, 651, 672, 693, 714, 735, 756, 777, 798, 819, 840, 861, 882, 903, 924, 945, 966, 987, 1008, 1029, 1050, 1071, 1092, 1113, 1134, 1155, 1176, 1197, 1218, 1239, 1260, 1281, 1302, 1323, 1344, 1365, 1386, 1407, 1428, 1449, 1470, 1491, 1512, 1533, 1554, 1575, 1596, 1617, 1638, 1659, 1680, 1701, 1722, 1743, 1764, 1785, 1806, 1827, 1848, 1869, 1890, 1911, 1932, 1953, 1974, 1995, 2016, 2037, 2058, 2079, 2100, 2121, 2142, 2163, 2184, 2205, 2226, 2247, 2268, 2289, 2310, 2331, 2352, 2373, 2394, 2415, 2436, 2457, 2478, 2499, 2520, 2541, 2562, 2583, 2604, 2625, 2646, 2667, 2688, 2709, 2730, 2751, 2772, 2793, 2814, 2835, 2856, 2877, 2898, 2919, 2940, 2961, 2982, 3003, 3024, 3045, 3066, 3087, 3108, 3129, 3150, 3171, 3192, 3213, 3234, 3255, 3276, 3297, 3318, 3339, 3360, 3381, 3402, 3423, 3444, 3465, 3486, 3507, 3528, 3549, 3570, 3591, 3612, 3633, 3654, 3675, 3696, 3717, 3738, 3759, 3780, 3801, 3822, 3843, 3864, 3885, 3906, 3927, 3948, 3969, 3990, 4011, 4032, 4053, 4074, 4095, 4116, 4137, 4158, 4179, 4200, 4221, 4242, 4263, 4284, 4305, 4326, 4347, 4368, 4389, 4410, 4431, 4452, 4473, 4494, 4515, 4536, 4557, 4578, 4599, 4620, 4641, 4662, 4683, 4704, 4725, 4746, 4767, 4788, 4809, 4830, 4851, 4872, 4893, 4914, 4935, 4956, 4977, 4998, 5019, 5040, 5061, 5082, 5103, 5124, 5145, 5166, 5187, 5208, 5229, 5250, 5271, 5292, 5313, 5334, 5355, 5376, 5397, 5418, 5439, 5460, 5481, 5502, 5523, 5544, 5565, 5586, 5607, 5628, 5649, 5670, 5691, 5712, 5733, 5754, 5775, 5796, 5817, 5838, 5859, 5880, 5901, 5922, 5943, 5964, 5985, 6006, 6027, 6048, 6069, 6090, 6111, 6132, 6153, 6174, 6195, 6216, 6237, 6258, 6279, 6300, 6321, 6342, 6363, 6384, 6405, 6426, 6447, 6468, 6489, 6510, 6531, 6552, 6573, 6594, 6615, 6636, 6657, 6678, 6699, 6720, 6741, 6762, 6783, 6804, 6825, 6846, 6867, 6888, 6909, 6930, 6951, 6972, 6993, 7014, 7035, 7056, 7077, 7098, 7119, 7140, 7161, 7182, 7203, 7224, 7245, 7266, 7287, 7308, 7329, 7350, 7371, 7392, 7413, 7434, 7455, 7476, 7497, 7518, 7539, 7560, 7581, 7602, 7623, 7644, 7665, 7686, 7707, 7728, 7749, 7770, 7791, 7812, 7833, 7854, 7875, 7896, 7917, 7938, 7959, 7980, 8001, 8022, 8043, 8064, 8085, 8106, 8127, 8148, 8169, 8190, 8211, 8232, 8253, 8274, 8295, 8316, 8337, 8358, 8379, 8400, 8421, 8442, 8463, 8484, 8505, 8526, 8547, 8568, 8589, 8610, 8631, 8652, 8673, 8694, 8715, 8736, 8757, 8778, 8799, 8820, 8841, 8862, 8883, 8904, 8925, 8946, 8967, 8988, 9009, 9030, 9051, 9072, 9093, 9114, 9135, 9156, 9177, 9198, 9219, 9240, 9261, 9282, 9303, 9324, 9345, 9366, 9387, 9408, 9429, 9450, 9471, 9492, 9513, 9534, 9555, 9576, 9597, 9618, 9639, 9660, 9681, 9702, 9723, 9744, 9765, 9786, 9807, 9828, 9849, 9870, 9891, 9912, 9933, 9954, 9975, 9996]\n"
     ]
    }
   ],
   "source": [
    "n = 10_000\n",
    "print([numeros for numeros in range(n) if numeros % 21 == 0 and numeros > 2])\n",
    "# Escribe aqui el *one linner*\n"
   ]
  },
  {
   "attachments": {},
   "cell_type": "markdown",
   "metadata": {},
   "source": [
    "### Funciones\n",
    "\n",
    "Escribe una función que:\n",
    "\n",
    "1. reciba una lista de elementos (letras, números, lo que sea), \n",
    "2. cuente la ocurrencia de cada elemento en la lista, \n",
    "3. devuelva las ocurrencias en forma de diccionario,\n",
    "4. si imprime es True, imprima un histograma de ocurrencias, por ejemplo:\n",
    "\n",
    "```python\n",
    "\n",
    "lista = [1,'a',1, 13, 'hola', 'a', 1, 1, 'a', 1]\n",
    "\n",
    "d = funcion_ejemplo(lista, imprime = True)\n",
    "\n",
    "1    \t\t***** \t(5 -> 50%)\n",
    "'a'  \t\t***   \t(3 -> 30%)\n",
    "13\t\t*\t(1 -> 10%)\n",
    "'hola'\t\t*\t(1 -> 10%)\n",
    "\n",
    "```"
   ]
  },
  {
   "cell_type": "code",
   "execution_count": 115,
   "metadata": {},
   "outputs": [
    {
     "data": {
      "text/plain": [
       "{'Casas': '4', 'Arboles': '2', 'Calles': '2', 'Sillas': '2'}"
      ]
     },
     "execution_count": 115,
     "metadata": {},
     "output_type": "execute_result"
    }
   ],
   "source": [
    "# Escribe la función aquí\n",
    "listanueva=[\"Casas\", \"Arboles\",\"Calles\",\"Casas\",\"Sillas\",\"Casas\", \"Arboles\",\"Calles\",\"Casas\",\"Sillas\"]\n",
    "\n",
    "def contador(lista1:list):\n",
    "    diccionario={}\n",
    "    total=0\n",
    "\n",
    "    for i in range(len(lista1)):\n",
    "        diccionario[lista1[i]]=str(lista1.count(lista1[i]))\n",
    "\n",
    "\n",
    "    \n",
    "    return diccionario\n",
    "\n",
    "contador(listanueva)"
   ]
  },
  {
   "cell_type": "code",
   "execution_count": 20,
   "metadata": {},
   "outputs": [
    {
     "name": "stdout",
     "output_type": "stream",
     "text": [
      "Casas       *           (4   -> 40.0 %)\n",
      "Arboles     **          (2   -> 20.0 %)\n",
      "Calles      ***         (2   -> 20.0 %)\n",
      "Sillas      ****        (2   -> 20.0 %)\n",
      "\n"
     ]
    }
   ],
   "source": [
    "# Realiza pruebas aquí\n",
    "listanueva=[\"Casas\", \"Arboles\",\"Calles\",\"Casas\",\"Sillas\",\"Casas\", \"Arboles\",\"Calles\",\"Casas\",\"Sillas\"]\n",
    "\n",
    "def contador(lista1:list):\n",
    "    diccionario={}\n",
    "    total=0\n",
    "\n",
    "    for i in range(len(lista1)):\n",
    "        diccionario[lista1[i]]=str(lista1.count(lista1[i]))\n",
    "\n",
    "\n",
    "    \n",
    "    return diccionario\n",
    "\n",
    "def funcion_ejemplo(lista:list, imprime:bool):\n",
    "    diccionario1 = contador(lista)\n",
    "    texto=\"\"\n",
    "\n",
    "    if imprime==True:\n",
    "        i=0\n",
    "        for elemento in diccionario1:\n",
    "            i += 1\n",
    "            pc = int(diccionario1[elemento])/len(lista)*100\n",
    "            #print(\"{:<10}  {:<10}  ({:<3} -> {5}%\".format(elemento,i*\"*\",diccionario[elemento],int(diccionario[elemento])/len(list)*100))\n",
    "            texto +=\"{:<10}  {:<10}  ({:<3} -> {:<5}%)\".format(elemento,i*\"*\",diccionario1[elemento],pc) + '\\n'\n",
    "    return texto\n",
    "\n",
    "d = funcion_ejemplo(listanueva, True)\n",
    "print(d)"
   ]
  },
  {
   "attachments": {},
   "cell_type": "markdown",
   "metadata": {},
   "source": [
    "Escribe una función que modifique un diccionario y regrese el diccionario modificado y una copia del original, donde cada entrada \n",
    "del diccionario sea una lista de valores. Ten en cuenta que si una entrada del diccionario es de tipo mutable, al modificarlo en la\n",
    "copia se modifica el original. Utiliza el modulo `copy` para evitar este problema. Ejemplo de la función:\n",
    "\n",
    "```python\n",
    "dic1 = {'Pepe':[12, 'enero', 1980], 'Carolina':[15,'mayo',1975],'Paco':[10,'nov',1970]}\n",
    "dic2 = fundicos(dic1, 'Pepe', 1, 'febrero')\n",
    "\n",
    "print(dic1) \n",
    "{'Pepe':[12, 'enero', 1980], 'Carolina':[15,'mayo',1975],'Paco':[10,'nov',1970]}\n",
    "\n",
    "print(dic2) \n",
    "{'Pepe':[12, 'febrero', 1980], 'Carolina':[15,'mayo',1975],'Paco':[10,'nov',1970]}\n",
    "```"
   ]
  },
  {
   "cell_type": "code",
   "execution_count": 36,
   "metadata": {},
   "outputs": [
    {
     "name": "stdout",
     "output_type": "stream",
     "text": [
      "Diccionario 1:  {'Lopez': ['L', 'o', 'p'], 'Cartas': ['C', 'a', 'r']}\n",
      "Diccionario 2:  {'Lopez': ['L', 'o', 'p'], 'Cartas': ['C', 'O', 'r']}\n"
     ]
    }
   ],
   "source": [
    "# Escribe la función fundicos aquí\n",
    "import copy\n",
    "\n",
    "dict1={\"Lopez\":[\"L\",\"o\",\"p\"],\"Cartas\":[\"C\",\"a\",\"r\"]}\n",
    "dict2={}\n",
    "\n",
    "def fundicos(dict:dict,clave:str,indx:int,cadena:str):\n",
    "    dict2=copy.deepcopy(dict)\n",
    "    dict2[clave][indx]=cadena\n",
    "    return dict2\n",
    "\n",
    "print(\"Diccionario 1: \", dict1)\n",
    "print(\"Diccionario 2: \", fundicos(dict1,\"Cartas\",1,\"O\"))\n",
    "\n"
   ]
  },
  {
   "cell_type": "code",
   "execution_count": 37,
   "metadata": {},
   "outputs": [
    {
     "name": "stdout",
     "output_type": "stream",
     "text": [
      "{'Pepe': [12, 'enero', 1980], 'Carolina': [15, 'mayo', 1975], 'Paco': [10, 'nov', 1970]}\n",
      "{'Pepe': [12, 'febrero', 1980], 'Carolina': [15, 'mayo', 1975], 'Paco': [10, 'nov', 1970]}\n"
     ]
    }
   ],
   "source": [
    "# Realiza pruebas de fundicos aquí\n",
    "dic1 = {'Pepe':[12, 'enero', 1980], 'Carolina':[15,'mayo',1975],'Paco':[10,'nov',1970]}\n",
    "dic2 = fundicos(dic1, 'Pepe', 1, 'febrero')\n",
    "\n",
    "print(dic1) \n",
    "print(dic2) "
   ]
  },
  {
   "attachments": {},
   "cell_type": "markdown",
   "metadata": {},
   "source": [
    "### Generadores\n",
    "\n",
    "Escribe una función `fun1` que reciba un número $n$ y calcule el número primo inmediatamente inferior. \n",
    "\n",
    "Escribe una función `fun2` que reciba como argumento un numero y una función, y devuelva una lista con la evaluación de la función desde $1$ hasta $n$. \n",
    "\n",
    "Prueba `fun2` con `fun1` y con `math.sqrt`. "
   ]
  },
  {
   "cell_type": "code",
   "execution_count": 108,
   "metadata": {},
   "outputs": [
    {
     "name": "stdout",
     "output_type": "stream",
     "text": [
      "1\n"
     ]
    }
   ],
   "source": [
    "# Escribe aqui fun1\n",
    "def fun1(n:int):\n",
    "# Cáculo del primo anterior.\n",
    "    for i in range(n):\n",
    "        inverso=n-(i+1)\n",
    "        if inverso==1 or inverso==3 or inverso==5 or inverso==7:\n",
    "            return inverso\n",
    "        if inverso % 2 != 0 and inverso % 3 != 0 and inverso % 5 != 0:\n",
    "            return inverso\n",
    "\n",
    "\n",
    "print(fun1(2))"
   ]
  },
  {
   "cell_type": "code",
   "execution_count": 109,
   "metadata": {},
   "outputs": [],
   "source": [
    "# Realiza pruebas de fun1 aqui\n",
    "def fun2(fun,nvalor):\n",
    "    a=[]\n",
    "    for i in range(nvalor):\n",
    "        a.append(fun(i+1)) \n",
    "    return a\n"
   ]
  },
  {
   "cell_type": "code",
   "execution_count": 110,
   "metadata": {},
   "outputs": [
    {
     "data": {
      "text/plain": [
       "[None, 1, 1, 3, 3, 5, 5, 7, 7, 7]"
      ]
     },
     "execution_count": 110,
     "metadata": {},
     "output_type": "execute_result"
    }
   ],
   "source": [
    "# Escribe fun2 aquí\n",
    "fun2(fun1,10)"
   ]
  },
  {
   "cell_type": "code",
   "execution_count": null,
   "metadata": {},
   "outputs": [],
   "source": [
    "# Realiza pruebas de fun2 aquí\n"
   ]
  },
  {
   "attachments": {},
   "cell_type": "markdown",
   "metadata": {},
   "source": [
    "Escribe una función, lo más compacta posible, que escoja entre los 3 patrones ascii a continuación, e imprima en pantalla \n",
    "el deseado, pero de dimensión $n$ ($n \\ge 4$), toma en cuanta que para algunos valores de $n$ habrá \n",
    "algún(os) patrones que no se puedan hacer.\n",
    "\n",
    "```\n",
    "          *             ++++           oooooooo\n",
    "          **            ++++           ooo  ooo\n",
    "          ***           ++++           oo    oo\n",
    "          ****          ++++           o      o\n",
    "          *****             ++++       o      o\n",
    "          ******            ++++       oo    oo\n",
    "          *******           ++++       ooo  ooo\n",
    "          ********          ++++       oooooooo\n",
    "\n",
    "```"
   ]
  },
  {
   "cell_type": "code",
   "execution_count": null,
   "metadata": {},
   "outputs": [],
   "source": [
    "# Escribe aquí la función"
   ]
  },
  {
   "cell_type": "code",
   "execution_count": 160,
   "metadata": {},
   "outputs": [
    {
     "name": "stdout",
     "output_type": "stream",
     "text": [
      "[[0, 1, 2], [0, 1, 2], [0, 1, 2], [0, 1, 2], [0, 1, 2]]\n"
     ]
    }
   ],
   "source": [
    "#Realiza pruebas aquí\n"
   ]
  },
  {
   "attachments": {},
   "cell_type": "markdown",
   "metadata": {},
   "source": [
    "### Clases y objetos\n",
    "\n",
    "Diseña una clase Matriz con las siguientes características:\n",
    "\n",
    "1. Como inicialización de un objeto es necesario conocer $n$, $m$ y tipo. En caso de no proporcionar $m$ la matriz se asume cuadrada de $n \\times n$. En caso de no proporcionar $n$ la matriz tendrá una dimensión de $1 \\times 1$. \n",
    "2. De no especificarse todos los elementos se inicializan a 0, a menos que exista un tipo especial ( `unos` o `diag` por el momento).\n",
    "3. Implementa con sobrecarga la suma de matrices, la multiplicación de matrices y la multiplicación por un escalar.\n",
    "4. Implementa como métodos eliminar columna y eliminar fila.   \n",
    "5. Programa la representación visual de la matriz. \n",
    "6. Ten en cuenta tambien el manejo de errores. \n",
    "\n",
    "\n",
    "Ejemplo de uso:\n",
    "\n",
    "```\n",
    ">>> A = Matriz(n=3, m=4)\n",
    "\n",
    ">>> print(A)\n",
    "0 0 0 0\n",
    "0 0 0 0\n",
    "0 0 0 0\n",
    "\n",
    ">>> A = A.quitafila(2)\n",
    "\n",
    ">>> print(A)\n",
    "0 0 0 0\n",
    "0 0 0 0\n",
    "\n",
    ">>> B = Matriz(4,4,'diag')\n",
    "\n",
    ">>> print(B)\n",
    "1 0 0 0\n",
    "0 1 0 0\n",
    "0 0 1 0\n",
    "0 0 0 1\n",
    "\n",
    ">>> C = Matriz(4,1,'unos')\n",
    "\n",
    ">>> print(C)\n",
    "1\n",
    "1\n",
    "1\n",
    "1\n",
    "\n",
    ">>> D = 3 * B * C\n",
    "\n",
    ">>> print(D)\n",
    "3\n",
    "3\n",
    "3\n",
    "3\n",
    "\n",
    ">>> E = 3 * B + C\n",
    "error \"No seas menso, si no son de la misma dimensión las matrices no se pueden sumar\"\n",
    "```"
   ]
  },
  {
   "cell_type": "code",
   "execution_count": 240,
   "metadata": {},
   "outputs": [],
   "source": [
    "# Desarrolla aqui la clase\n",
    "class matriz(object):\n",
    "    # n -> filas, m -> columnas.\n",
    "    # unos -> de unos.\n",
    "    # diag -> diagonal.\n",
    "    def __init__(self,fil,col, param):\n",
    "        self.fil=fil\n",
    "        self.col=col\n",
    "        self.param=param\n",
    "    \n",
    "        # Creando la matriz...\n",
    "        self=list(range(fil))\n",
    "        for i in range(fil):\n",
    "            self[i]=list(range(col))\n",
    "        \n",
    "        for i in range(fil):\n",
    "            for j in range(col):\n",
    "                if (param==\"unos\") or (param==\"diag\" and i==j and fil==col):\n",
    "                    self[i][j]=1\n",
    "                else:\n",
    "                    self[i][j]=0\n",
    "        # La única forma de ver que se creo bien es así...\n",
    "        print(self)\n",
    "        # nada más funciona si imprimo acá...\n",
    "\n",
    "    def __add__(self,otra):\n",
    "        if self.fil == otra.fil and self.col==otra.col:\n",
    "            fils=self.fil\n",
    "            cols=self.col\n",
    "            # Matriz nueva...\n",
    "            nueva=list(range(self.fil))\n",
    "            for i in range(self.fil):\n",
    "                nueva[i]=list(range(self.col))\n",
    "            #print(nueva)\n",
    "            \n",
    "            for i in range(fils):\n",
    "                for j in range(cols):\n",
    "                    #print(nueva)\n",
    "                    nueva[i][j] = self[i][j] + otra[i][j]\n",
    "            #print(nueva)\n",
    "            return nueva\n"
   ]
  },
  {
   "cell_type": "code",
   "execution_count": 241,
   "metadata": {},
   "outputs": [
    {
     "name": "stdout",
     "output_type": "stream",
     "text": [
      "[[0, 0, 0, 0, 0], [0, 0, 0, 0, 0], [0, 0, 0, 0, 0]]\n",
      "[[1, 1, 1, 1, 1], [1, 1, 1, 1, 1], [1, 1, 1, 1, 1]]\n"
     ]
    },
    {
     "ename": "TypeError",
     "evalue": "'matriz' object is not subscriptable",
     "output_type": "error",
     "traceback": [
      "\u001b[1;31m---------------------------------------------------------------------------\u001b[0m",
      "\u001b[1;31mTypeError\u001b[0m                                 Traceback (most recent call last)",
      "Cell \u001b[1;32mIn[241], line 24\u001b[0m\n\u001b[0;32m     22\u001b[0m A\u001b[39m=\u001b[39mmatriz(\u001b[39m3\u001b[39m,\u001b[39m5\u001b[39m,\u001b[39m\"\u001b[39m\u001b[39mdiag\u001b[39m\u001b[39m\"\u001b[39m)\n\u001b[0;32m     23\u001b[0m B\u001b[39m=\u001b[39mmatriz(\u001b[39m3\u001b[39m,\u001b[39m5\u001b[39m,\u001b[39m\"\u001b[39m\u001b[39munos\u001b[39m\u001b[39m\"\u001b[39m )\n\u001b[1;32m---> 24\u001b[0m C\u001b[39m=\u001b[39mA\u001b[39m+\u001b[39;49mB\n",
      "Cell \u001b[1;32mIn[240], line 39\u001b[0m, in \u001b[0;36mmatriz.__add__\u001b[1;34m(self, otra)\u001b[0m\n\u001b[0;32m     36\u001b[0m \u001b[39mfor\u001b[39;00m i \u001b[39min\u001b[39;00m \u001b[39mrange\u001b[39m(fils):\n\u001b[0;32m     37\u001b[0m     \u001b[39mfor\u001b[39;00m j \u001b[39min\u001b[39;00m \u001b[39mrange\u001b[39m(cols):\n\u001b[0;32m     38\u001b[0m         \u001b[39m#print(nueva)\u001b[39;00m\n\u001b[1;32m---> 39\u001b[0m         nueva[i][j] \u001b[39m=\u001b[39m \u001b[39mself\u001b[39;49m[i][j] \u001b[39m+\u001b[39m otra[i][j]\n\u001b[0;32m     40\u001b[0m \u001b[39m#print(nueva)\u001b[39;00m\n\u001b[0;32m     41\u001b[0m \u001b[39mreturn\u001b[39;00m nueva\n",
      "\u001b[1;31mTypeError\u001b[0m: 'matriz' object is not subscriptable"
     ]
    }
   ],
   "source": [
    "# Realiza las pruebas a la clase aquí\n",
    "\"\"\"\n",
    "A = Matriz(n=3, m=4)\n",
    "print('A =', A)\n",
    "\n",
    "A = A.quitafila(2)\n",
    "print('A = ', A)\n",
    "\n",
    "B = Matriz(4,4,'diag')\n",
    "print('B = ', B)\n",
    "\n",
    "C = Matriz(4,1,'unos')\n",
    "print('C =', C)\n",
    "\n",
    "D = 3 * B * C\n",
    "print('D = ', D)\n",
    "\n",
    "E = 3 * B + C\n",
    "print('E = ', E)##\n",
    "\"\"\"\n",
    "\n",
    "A=matriz(3,5,\"diag\")\n",
    "B=matriz(3,5,\"unos\" )\n",
    "C=A+B\n"
   ]
  }
 ],
 "metadata": {
  "kernelspec": {
   "display_name": "ing-caract",
   "language": "python",
   "name": "python3"
  },
  "language_info": {
   "codemirror_mode": {
    "name": "ipython",
    "version": 3
   },
   "file_extension": ".py",
   "mimetype": "text/x-python",
   "name": "python",
   "nbconvert_exporter": "python",
   "pygments_lexer": "ipython3",
   "version": "3.10.0"
  },
  "orig_nbformat": 4
 },
 "nbformat": 4,
 "nbformat_minor": 2
}
