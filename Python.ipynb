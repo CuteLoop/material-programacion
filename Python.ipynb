{
  "cells": [
    {
      "cell_type": "markdown",
      "metadata": {
        "id": "view-in-github",
        "colab_type": "text"
      },
      "source": [
        "<a href=\"https://colab.research.google.com/github/CuteLoop/material-programacion/blob/main/Python.ipynb\" target=\"_parent\"><img src=\"https://colab.research.google.com/assets/colab-badge.svg\" alt=\"Open In Colab\"/></a>"
      ]
    },
    {
      "cell_type": "markdown",
      "metadata": {
        "id": "KwLEgVyJqs8x"
      },
      "source": [
        "<a href=\"https://colab.research.google.com/github/mcd-unison/material-programacion/blob/main/intro-python.ipynb\" target=\"_parent\"><img src=\"https://colab.research.google.com/assets/colab-badge.svg\" alt=\"Open In Colab\"/></a>"
      ]
    },
    {
      "cell_type": "markdown",
      "metadata": {
        "id": "tXgiCx8rqs83"
      },
      "source": [
        "<center>\n",
        "<p><img src=\"https://mcd.unison.mx/wp-content/themes/awaken/img/logo_mcd.png\" width=\"100\">\n",
        "</p>\n",
        "\n",
        "\n",
        "\n",
        "# Curso Propedéutico en *Programación*\n",
        "\n",
        "## Introducción a `python` resolviendo preguntas\n",
        "\n",
        "\n",
        "<p> Julio Waissman Vilanova </p>\n",
        "<p>\n",
        "<img src=\"https://identidadbuho.unison.mx/wp-content/uploads/2019/06/letragrama-cmyk-72.jpg\" width=\"200\">\n",
        "</p>\n",
        "</center>\n",
        "\n"
      ]
    },
    {
      "cell_type": "markdown",
      "metadata": {
        "id": "dUt6dv0Gqs86"
      },
      "source": [
        "### Tipos\n",
        "\n",
        "¿Cuales son los tipos de datos básicos? Revisa los tipos siguientes:\n",
        "\n",
        "1. Tipos numéricos `int`, `float`, `complex`\n",
        "2. Cadenas de caracteres\n",
        "3. Tuplas\n",
        "4. Listas\n",
        "5. Diccionarios\n",
        "6. Conjuntos\n",
        "\n",
        "Da ejemplo de sobrecarga de operadores (en particular `+` y `*`)\n",
        "\n"
      ]
    },
    {
      "cell_type": "code",
      "execution_count": null,
      "metadata": {
        "id": "Kb4ILligqs89",
        "outputId": "7fbf87d1-bdef-43ed-9f0e-4f7e99f9f4c0",
        "colab": {
          "base_uri": "https://localhost:8080/",
          "height": 35
        }
      },
      "outputs": [
        {
          "output_type": "execute_result",
          "data": {
            "text/plain": [
              "'HolaMundi'"
            ],
            "application/vnd.google.colaboratory.intrinsic+json": {
              "type": "string"
            }
          },
          "metadata": {},
          "execution_count": 1
        }
      ],
      "source": [
        "# En este caso el operador '+' concatena dos strings\n",
        "'Hola'+'Mundi'"
      ]
    },
    {
      "cell_type": "markdown",
      "metadata": {
        "id": "DA3eNrSyqs9A"
      },
      "source": [
        "¿Que significa que unos tipos sean *mutables* y otros *inmutables*? \n",
        "\n",
        "Realiza un pequeño programa donde quede claro lo que significa que un tipo de datos sea mutable, e ilustra el uso del método `copy.deepcopy()`. "
      ]
    },
    {
      "cell_type": "code",
      "execution_count": null,
      "metadata": {
        "id": "3ZNNNgXWqs9C",
        "outputId": "b0cc4b55-ccea-4fa8-9c4f-f3c313d12ff5",
        "colab": {
          "base_uri": "https://localhost:8080/"
        }
      },
      "outputs": [
        {
          "output_type": "stream",
          "name": "stdout",
          "text": [
            "a: [1, 2, 3]  b:[1, 2, 3] Originales \n",
            "\n",
            "Una asignación no crea un nuevo objeto, simplemente asigna otro nombre al objeto\n",
            " a: [5, 2, 3]  b:[5, 2, 3]\n",
            " id_a: 139899896916864  id_b:139899896916864\n",
            "\n",
            "a: [1, 2, 3]  b:[1, 2, 3] Originales \n",
            "\n",
            "Para copy.copy() \n",
            " a: [1, 2, 3]  b:[5, 2, 3]\n",
            " id_a: 139899896632576  id_b:139900725512192\n",
            "\n",
            "a: [1, 2, 3]  b:[1, 2, 3] Originales \n",
            "\n",
            "Para copy.deepcopy()\n",
            " a: [1, 2, 3]  b:[5, 2, 3]\n",
            " id_a: 139899896916864  id_b:139899894146496\n",
            "\n"
          ]
        }
      ],
      "source": [
        "a = [1,2,3]\n",
        "b=a\n",
        "\n",
        "print('a: {}  b:{} Originales \\n' .format(a,b))\n",
        "\n",
        "#Modificar b, tambièn nos cambia a a\n",
        "b[0] = 5\n",
        "\n",
        "\n",
        "print('Una asignación no crea un nuevo objeto, simplemente asigna otro nombre al objeto\\n',\n",
        "      'a: {}  b:{}\\n'.format(a,b),\n",
        "      'id_a: {}  id_b:{}\\n'.format(id(a),id(b))\n",
        ")\n",
        "\n",
        "a = [1,2,3]\n",
        "b= copy.copy(a)\n",
        "\n",
        "print('a: {}  b:{} Originales \\n' .format(a,b))\n",
        "\n",
        "#Modificar b, tambièn nos cambia a a\n",
        "b[0] = 5\n",
        "\n",
        "\n",
        "print('Para copy.copy() \\n',\n",
        "      'a: {}  b:{}\\n'.format(a,b),\n",
        "      'id_a: {}  id_b:{}\\n'.format(id(a),id(b))\n",
        ")\n",
        "\n",
        "a = [1,2,3]\n",
        "b= copy.deepcopy(a)\n",
        "\n",
        "print('a: {}  b:{} Originales \\n' .format(a,b))\n",
        "\n",
        "#Modificar b, tambièn nos cambia a a\n",
        "b[0] = 5\n",
        "\n",
        "\n",
        "print('Para copy.deepcopy()\\n',\n",
        "      'a: {}  b:{}\\n'.format(a,b),\n",
        "      'id_a: {}  id_b:{}\\n'.format(id(a),id(b))\n",
        ")"
      ]
    },
    {
      "cell_type": "code",
      "source": [
        "# Para Tuplas\n",
        "\n",
        "import copy\n",
        "a = (1,2,3)\n",
        "b= copy.copy(a)\n",
        "\n",
        "print('a: {}  b:{} Originales \\n' .format(a,b))\n",
        "\n",
        "#Modificar b, tambièn nos cambia a a\n",
        "#b[0] = 5\n",
        "\n",
        "\n",
        "print('Una asignación no crea un nuevo objeto, simplemente asigna otro nombre al objeto\\n',\n",
        "      'a: {}  b:{}\\n'.format(a,b),\n",
        "      'id_a: {}  id_b:{}\\n'.format(id(a),id(b))\n",
        ")\n",
        "a = (1,2,3)\n",
        "b= copy.copy(a)\n",
        "\n",
        "print('a: {}  b:{} Originales \\n' .format(a,b))\n",
        "\n",
        "#Modificar b, tambièn nos cambia a a\n",
        "#b[0] = 5\n",
        "\n",
        "\n",
        "print('Para copy.copy()\\n',\n",
        "      'a: {}  b:{}\\n'.format(a,b),\n",
        "      'id_a: {}  id_b:{}\\n'.format(id(a),id(b))\n",
        ")\n",
        "\n",
        "a = (1,2,3)\n",
        "b= copy.deepcopy(a)\n",
        "\n",
        "print('a: {}  b:{} Originales \\n' .format(a,b))\n",
        "\n",
        "#Modificar b, tambièn nos cambia a a\n",
        "#b[0] = 5\n",
        "\n",
        "\n",
        "print('Para copy.deepcopy()\\n',\n",
        "      'a: {}  b:{}\\n'.format(a,b),\n",
        "      'id_a: {}  id_b:{}\\n'.format(id(a),id(b))\n",
        ")"
      ],
      "metadata": {
        "id": "H0eRJxHmsF8H",
        "outputId": "776009d6-aacf-4784-d669-26706c0f9b30",
        "colab": {
          "base_uri": "https://localhost:8080/"
        }
      },
      "execution_count": null,
      "outputs": [
        {
          "output_type": "stream",
          "name": "stdout",
          "text": [
            "a: (1, 2, 3)  b:(1, 2, 3) Originales \n",
            "\n",
            "Una asignación no crea un nuevo objeto, simplemente asigna otro nombre al objeto\n",
            " a: (1, 2, 3)  b:(1, 2, 3)\n",
            " id_a: 139899896915136  id_b:139899896915136\n",
            "\n",
            "a: (1, 2, 3)  b:(1, 2, 3) Originales \n",
            "\n",
            "Para copy.copy()\n",
            " a: (1, 2, 3)  b:(1, 2, 3)\n",
            " id_a: 139899896628736  id_b:139899896628736\n",
            "\n",
            "a: (1, 2, 3)  b:(1, 2, 3) Originales \n",
            "\n",
            "Para copy.deepcopy()\n",
            " a: (1, 2, 3)  b:(1, 2, 3)\n",
            " id_a: 139899896915136  id_b:139899896915136\n",
            "\n"
          ]
        }
      ]
    },
    {
      "cell_type": "code",
      "source": [
        "\n",
        "\n"
      ],
      "metadata": {
        "id": "fTOrpcRzsVsP"
      },
      "execution_count": null,
      "outputs": []
    },
    {
      "cell_type": "markdown",
      "metadata": {
        "id": "Gl0BtD2qqs9F"
      },
      "source": [
        "### *Comprehension* de listas, conjuntos y diccionarios \n",
        "\n",
        "Escribe, en una sola linea, una expresión que genere una lista con todos los números enteros que se encuentran entre $1$ y $n$ \n",
        "que sean divisibles por $2$, $3$ y $7$ y que el dígito menos significativo del número sea $2$."
      ]
    },
    {
      "cell_type": "code",
      "execution_count": null,
      "metadata": {
        "id": "Dlwqd6scqs9G",
        "outputId": "7839a514-a11a-44d0-a70d-81e03e0b47c1",
        "colab": {
          "base_uri": "https://localhost:8080/"
        }
      },
      "outputs": [
        {
          "output_type": "execute_result",
          "data": {
            "text/plain": [
              "[2, 3, 4, 6, 7, 8, 9, 10, 12, 14]"
            ]
          },
          "metadata": {},
          "execution_count": 28
        }
      ],
      "source": [
        "n = 10_000\n",
        "\n",
        "# Escribe aqui el *one linner*\n",
        "\n",
        "one_liner = [ x for x in range(1,n) if x%2==0 or x%3==0 or x%7==0 ]\n",
        "\n",
        "\n",
        "one_liner[:10]\n"
      ]
    },
    {
      "cell_type": "markdown",
      "metadata": {
        "id": "uMpa454Uqs9K"
      },
      "source": [
        "### Funciones\n",
        "\n",
        "Escribe una función que:\n",
        "\n",
        "1. reciba una lista de elementos (letras, números, lo que sea), \n",
        "2. cuente la ocurrencia de cada elemento en la lista, \n",
        "3. devuelva las ocurrencias en forma de diccionario,\n",
        "4. si imprime es True, imprima un histograma de ocurrencias, por ejemplo:\n",
        "\n",
        "```python\n",
        "\n",
        "lista = [1,'a',1, 13, 'hola', 'a', 1, 1, 'a', 1]\n",
        "\n",
        "d = funcion_ejemplo(lista, imprime = True)\n",
        "\n",
        "1    \t\t***** \t(5 -> 50%)\n",
        "'a'  \t\t***   \t(3 -> 30%)\n",
        "13\t\t*\t(1 -> 10%)\n",
        "'hola'\t\t*\t(1 -> 10%)\n",
        "\n",
        "```"
      ]
    },
    {
      "cell_type": "code",
      "execution_count": null,
      "metadata": {
        "id": "qNgBuFJsqs9O"
      },
      "outputs": [],
      "source": [
        "# Escribe la función aquí\n"
      ]
    },
    {
      "cell_type": "code",
      "execution_count": null,
      "metadata": {
        "id": "OHJfxg7Cqs9R"
      },
      "outputs": [],
      "source": [
        "# Realiza pruebas aquí\n",
        "d = funcion_ejemplo(lista, imprime = True)\n",
        "print(d)"
      ]
    },
    {
      "cell_type": "markdown",
      "metadata": {
        "id": "W-t4Iv4kqs9U"
      },
      "source": [
        "Escribe una función que modifique un diccionario y regrese el diccionario modificado y una copia del original, donde cada entrada \n",
        "del diccionario sea una lista de valores. Ten en cuenta que si una entrada del diccionario es de tipo mutable, al modificarlo en la\n",
        "copia se modifica el original. Utiliza el modulo `copy` para evitar este problema. Ejemplo de la función:\n",
        "\n",
        "```python\n",
        "dic1 = {'Pepe':[12, 'enero', 1980], 'Carolina':[15,'mayo',1975],'Paco':[10,'nov',1970]}\n",
        "dic2 = fundicos(dic1, 'Pepe', 1, 'febrero')\n",
        "\n",
        "print(dic1) \n",
        "{'Pepe':[12, 'enero', 1980], 'Carolina':[15,'mayo',1975],'Paco':[10,'nov',1970]}\n",
        "\n",
        "print(dic2) \n",
        "{'Pepe':[12, 'febrero', 1980], 'Carolina':[15,'mayo',1975],'Paco':[10,'nov',1970]}\n",
        "```"
      ]
    },
    {
      "cell_type": "code",
      "execution_count": null,
      "metadata": {
        "id": "jPMcmWJpqs9W"
      },
      "outputs": [],
      "source": [
        "# Escribe la función fundicos aquí\n"
      ]
    },
    {
      "cell_type": "code",
      "execution_count": null,
      "metadata": {
        "id": "Fu288TXZqs9Z"
      },
      "outputs": [],
      "source": [
        "# Realiza pruebas de fundicos aquí\n",
        "dic1 = {'Pepe':[12, 'enero', 1980], 'Carolina':[15,'mayo',1975],'Paco':[10,'nov',1970]}\n",
        "dic2 = fundicos(dic1, 'Pepe', 1, 'febrero')\n",
        "\n",
        "print(dic1) \n",
        "print(dic2) "
      ]
    },
    {
      "cell_type": "markdown",
      "metadata": {
        "id": "7Z6Kz_gIqs9a"
      },
      "source": [
        "### Generadores\n",
        "\n",
        "Escribe una función `fun1` que reciba un número $n$ y calcule el número primo inmediatamente inferior. \n",
        "\n",
        "Escribe una función `fun2` que reciba como argumento un numero y una función, y devuelva una lista con la evaluación de la función desde $1$ hasta $n$. \n",
        "\n",
        "Prueba `fun2` con `fun1` y con `math.sqrt`. "
      ]
    },
    {
      "cell_type": "code",
      "execution_count": null,
      "metadata": {
        "id": "n-OoZBCrqs9b"
      },
      "outputs": [],
      "source": [
        "# Escribe aqui fun1\n"
      ]
    },
    {
      "cell_type": "code",
      "execution_count": null,
      "metadata": {
        "id": "w4FdAIDaqs9e"
      },
      "outputs": [],
      "source": [
        "# Realiza pruebas de fun1 aqui\n"
      ]
    },
    {
      "cell_type": "code",
      "execution_count": null,
      "metadata": {
        "id": "AHkZcRWmqs9e"
      },
      "outputs": [],
      "source": [
        "# Escribe fun2 aquí\n"
      ]
    },
    {
      "cell_type": "code",
      "execution_count": null,
      "metadata": {
        "id": "vXMQhDKTqs9g"
      },
      "outputs": [],
      "source": [
        "# Realiza pruebas de fun2 aquí\n"
      ]
    },
    {
      "cell_type": "markdown",
      "metadata": {
        "id": "pN_sjaa1qs9h"
      },
      "source": [
        "Escribe una función, lo más compacta posible, que escoja entre los 3 patrones ascii a continuación, e imprima en pantalla \n",
        "el deseado, pero de dimensión $n$ ($n \\ge 4$), toma en cuanta que para algunos valores de $n$ habrá \n",
        "algún(os) patrones que no se puedan hacer.\n",
        "\n",
        "```\n",
        "          *             ++++           oooooooo\n",
        "          **            ++++           ooo  ooo\n",
        "          ***           ++++           oo    oo\n",
        "          ****          ++++           o      o\n",
        "          *****             ++++       o      o\n",
        "          ******            ++++       oo    oo\n",
        "          *******           ++++       ooo  ooo\n",
        "          ********          ++++       oooooooo\n",
        "\n",
        "```"
      ]
    },
    {
      "cell_type": "code",
      "execution_count": null,
      "metadata": {
        "id": "EnL8w-EYqs9i"
      },
      "outputs": [],
      "source": [
        "# Escribe aquí la función"
      ]
    },
    {
      "cell_type": "code",
      "execution_count": null,
      "metadata": {
        "id": "_EJsYKGwqs9j"
      },
      "outputs": [],
      "source": [
        "#Realiza pruebas aquí\n"
      ]
    },
    {
      "cell_type": "markdown",
      "metadata": {
        "id": "TePnjZLiqs9k"
      },
      "source": [
        "### Clases y objetos\n",
        "\n",
        "Diseña una clase Matriz con las siguientes características:\n",
        "\n",
        "1. Como inicialización de un objeto es necesario conocer $n$, $m$ y tipo. En caso de no proporcionar $m$ la matriz se asume cuadrada de $n \\times n$. En caso de no proporcionar $n$ la matriz tendrá una dimensión de $1 \\times 1$. \n",
        "2. De no especificarse todos los elementos se inicializan a 0, a menos que exista un tipo especial ( `unos` o `diag` por el momento).\n",
        "3. Implementa con sobrecarga la suma de matrices, la multiplicación de matrices y la multiplicación por un escalar.\n",
        "4. Implementa como métodos eliminar columna y eliminar fila.   \n",
        "5. Programa la representación visual de la matriz. \n",
        "6. Ten en cuenta tambien el manejo de errores. \n",
        "\n",
        "\n",
        "Ejemplo de uso:\n",
        "\n",
        "```\n",
        ">>> A = Matriz(n=3, m=4)\n",
        "\n",
        ">>> print(A)\n",
        "0 0 0 0\n",
        "0 0 0 0\n",
        "0 0 0 0\n",
        "\n",
        ">>> A = A.quitafila(2)\n",
        "\n",
        ">>> print(A)\n",
        "0 0 0 0\n",
        "0 0 0 0\n",
        "\n",
        ">>> B = Matriz(4,4,'diag')\n",
        "\n",
        ">>> print(B)\n",
        "1 0 0 0\n",
        "0 1 0 0\n",
        "0 0 1 0\n",
        "0 0 0 1\n",
        "\n",
        ">>> C = Matriz(4,1,'unos')\n",
        "\n",
        ">>> print(C)\n",
        "1\n",
        "1\n",
        "1\n",
        "1\n",
        "\n",
        ">>> D = 3 * B * C\n",
        "\n",
        ">>> print(D)\n",
        "3\n",
        "3\n",
        "3\n",
        "3\n",
        "\n",
        ">>> E = 3 * B + C\n",
        "error \"No seas menso, si no son de la misma dimensión las matrices no se pueden sumar\"\n",
        "```"
      ]
    },
    {
      "cell_type": "code",
      "source": [
        "[  0 for x in range(10)]"
      ],
      "metadata": {
        "id": "s--e1GkxvtrI",
        "outputId": "2f3730da-9408-45eb-c7b0-6769bebcdacc",
        "colab": {
          "base_uri": "https://localhost:8080/"
        }
      },
      "execution_count": 8,
      "outputs": [
        {
          "output_type": "execute_result",
          "data": {
            "text/plain": [
              "[0, 0, 0, 0, 0, 0, 0, 0, 0, 0]"
            ]
          },
          "metadata": {},
          "execution_count": 8
        }
      ]
    },
    {
      "cell_type": "code",
      "source": [
        "m=3\n",
        "n=5\n",
        "\n",
        "repr =[[ 0 for j in range(n) ] for i in range(m)]\n",
        "\n",
        "for i in range(m):\n",
        "    renglon = repr[i]\n",
        "    print(renglon)\n",
        "\n",
        "def renglon_str(renglon):\n",
        "\n",
        "\n",
        "  renglon_str=''\n",
        "  for j in range(len(renglon)):\n",
        "    renglon_str = str(renglon[j])\n",
        "    return renglon_str"
      ],
      "metadata": {
        "colab": {
          "base_uri": "https://localhost:8080/"
        },
        "id": "srPorIFGv20G",
        "outputId": "8ce6e00e-9ad9-4e1b-a54e-4011305b95a5"
      },
      "execution_count": 9,
      "outputs": [
        {
          "output_type": "stream",
          "name": "stdout",
          "text": [
            "[0, 0, 0, 0, 0]\n",
            "[0, 0, 0, 0, 0]\n",
            "[0, 0, 0, 0, 0]\n"
          ]
        }
      ]
    },
    {
      "cell_type": "code",
      "source": [],
      "metadata": {
        "id": "6tRYrluM24EM"
      },
      "execution_count": 10,
      "outputs": []
    },
    {
      "cell_type": "code",
      "source": [],
      "metadata": {
        "id": "xv7mN77C4yi8"
      },
      "execution_count": null,
      "outputs": []
    },
    {
      "cell_type": "code",
      "source": [
        "m=3\n",
        "n=5\n",
        "\n",
        "repr =[[ 0 for j in range(n) ] for i in range(m)]\n",
        "\n",
        "\n",
        "def renglon_to_str(renglon):\n",
        "\n",
        "  renglon_str=''\n",
        "  for j in range(len(renglon)):\n",
        "    renglon_str = renglon_str + str(renglon[j])+' '\n",
        "  \n",
        "  return renglon_str+'\\n'\n",
        "\n",
        "\n",
        "renglon_to_str([0, 0, 0, 0, 0])\n",
        "\n",
        "\n",
        "\n",
        "matriz = repr\n",
        "matriz_str = ''\n",
        "for i in range(m):\n",
        "  matriz_str = matriz_str + renglon_to_str(matriz[i])\n",
        "\n",
        "print(matriz_str)\n",
        "\n"
      ],
      "metadata": {
        "outputId": "02e3fc78-2858-4ac9-b485-6382398f09c8",
        "colab": {
          "base_uri": "https://localhost:8080/"
        },
        "id": "pXdvegt_246Q"
      },
      "execution_count": 24,
      "outputs": [
        {
          "output_type": "stream",
          "name": "stdout",
          "text": [
            "0 0 0 0 0 \n",
            "0 0 0 0 0 \n",
            "0 0 0 0 0 \n",
            "\n"
          ]
        }
      ]
    },
    {
      "cell_type": "code",
      "execution_count": 35,
      "metadata": {
        "id": "Isq3BfApqs9l",
        "colab": {
          "base_uri": "https://localhost:8080/",
          "height": 133
        },
        "outputId": "ebb11012-588b-4a6e-ab8c-54ca25a4b6d9"
      },
      "outputs": [
        {
          "output_type": "error",
          "ename": "SyntaxError",
          "evalue": "ignored",
          "traceback": [
            "\u001b[0;36m  File \u001b[0;32m\"<ipython-input-35-13de2641dbaa>\"\u001b[0;36m, line \u001b[0;32m7\u001b[0m\n\u001b[0;31m    def __init__(self, renglones=[], m, n, tipo = 'ceros'):\u001b[0m\n\u001b[0m                                     ^\u001b[0m\n\u001b[0;31mSyntaxError\u001b[0m\u001b[0;31m:\u001b[0m non-default argument follows default argument\n"
          ]
        }
      ],
      "source": [
        "# Desarrolla aqui la clase\n",
        "\n",
        "class Matriz(object):\n",
        "\n",
        "  \"\"\"Matriz mxn\"\"\"\n",
        "\n",
        "  def __init__(self, m, n, tipo = 'ceros'):\n",
        "\n",
        "    self.m = m\n",
        "    self.n = n\n",
        "\n",
        "    if renglones != []:\n",
        "      tipo = 'renglones'\n",
        "\n",
        "    if tipo =='renglones':\n",
        "\n",
        "      n= len(renglones[0])\n",
        "\n",
        "      for renglon in renglones :\n",
        "        if len(renglon)==n :\n",
        "          pass\n",
        "\n",
        "        else:\n",
        "          raise TypeError('Las dimensiones de tus renglones no coinciden')\n",
        "      self.data = renglones\n",
        "\n",
        "    if tipo == 'ceros':\n",
        "\n",
        "      self.data = [ [0 for j in range(n) ] for i in range(m)]\n",
        "\n",
        "    if tipo == 'uno':\n",
        "\n",
        "      self.data = [ [ 1 for j in range(n) ] for i in range(m)]\n",
        "\n",
        "    if tipo == 'diag':\n",
        "\n",
        "       self.data = [ [ 0 for j in range(n) ] for i in range(n)]\n",
        "\n",
        "       for i in range(n):\n",
        "          self.data[i][i] = 1\n",
        "\n",
        "\n",
        "  def __str__(self) -> str:\n",
        "    \n",
        "\n",
        "    def renglon_to_str(renglon):\n",
        "\n",
        "      renglon_str=''\n",
        "      for j in range(len(renglon)):\n",
        "        renglon_str = renglon_str + str(renglon[j])+' '\n",
        "      \n",
        "      return renglon_str+'\\n'\n",
        "\n",
        "    matriz = self.data\n",
        "\n",
        "    matriz_str = '\\n'\n",
        "    for i in range(m):\n",
        "      matriz_str = matriz_str + renglon_to_str(matriz[i])\n",
        "\n",
        "    return matriz_str\n",
        "    \n",
        "\n",
        "  def quitafila(self, fila):\n",
        "\n",
        "    self.data[fila].pop()\n",
        "\n",
        "    return Matrix(self.data)\n",
        "\n",
        "\n",
        "\n",
        "  \n",
        "\n",
        "      \n",
        "\n"
      ]
    },
    {
      "cell_type": "code",
      "source": [
        "A = Matriz([0, 0, 0, 0, 0, 0, 0, 0, 0, 0])\n",
        "print('A =', A)\n"
      ],
      "metadata": {
        "id": "k_-7qqYrzA9x",
        "outputId": "de8ef0c2-ba68-4dad-89ec-53991c2ab8ff",
        "colab": {
          "base_uri": "https://localhost:8080/",
          "height": 186
        }
      },
      "execution_count": 36,
      "outputs": [
        {
          "output_type": "error",
          "ename": "TypeError",
          "evalue": "ignored",
          "traceback": [
            "\u001b[0;31m---------------------------------------------------------------------------\u001b[0m",
            "\u001b[0;31mTypeError\u001b[0m                                 Traceback (most recent call last)",
            "\u001b[0;32m<ipython-input-36-29a17dd10eb6>\u001b[0m in \u001b[0;36m<cell line: 1>\u001b[0;34m()\u001b[0m\n\u001b[0;32m----> 1\u001b[0;31m \u001b[0mA\u001b[0m \u001b[0;34m=\u001b[0m \u001b[0mMatriz\u001b[0m\u001b[0;34m(\u001b[0m\u001b[0;34m[\u001b[0m\u001b[0;36m0\u001b[0m\u001b[0;34m,\u001b[0m \u001b[0;36m0\u001b[0m\u001b[0;34m,\u001b[0m \u001b[0;36m0\u001b[0m\u001b[0;34m,\u001b[0m \u001b[0;36m0\u001b[0m\u001b[0;34m,\u001b[0m \u001b[0;36m0\u001b[0m\u001b[0;34m,\u001b[0m \u001b[0;36m0\u001b[0m\u001b[0;34m,\u001b[0m \u001b[0;36m0\u001b[0m\u001b[0;34m,\u001b[0m \u001b[0;36m0\u001b[0m\u001b[0;34m,\u001b[0m \u001b[0;36m0\u001b[0m\u001b[0;34m,\u001b[0m \u001b[0;36m0\u001b[0m\u001b[0;34m]\u001b[0m\u001b[0;34m)\u001b[0m\u001b[0;34m\u001b[0m\u001b[0;34m\u001b[0m\u001b[0m\n\u001b[0m\u001b[1;32m      2\u001b[0m \u001b[0mprint\u001b[0m\u001b[0;34m(\u001b[0m\u001b[0;34m'A ='\u001b[0m\u001b[0;34m,\u001b[0m \u001b[0mA\u001b[0m\u001b[0;34m)\u001b[0m\u001b[0;34m\u001b[0m\u001b[0;34m\u001b[0m\u001b[0m\n",
            "\u001b[0;31mTypeError\u001b[0m: Matriz.__init__() missing 1 required positional argument: 'n'"
          ]
        }
      ]
    },
    {
      "cell_type": "code",
      "execution_count": 31,
      "metadata": {
        "id": "n32uJbduqs9m",
        "outputId": "7b1af5be-3e98-48f3-b6ea-5d2786eca156",
        "colab": {
          "base_uri": "https://localhost:8080/",
          "height": 325
        }
      },
      "outputs": [
        {
          "output_type": "stream",
          "name": "stdout",
          "text": [
            "A = \n",
            "0 0 0 \n",
            "0 0 0 \n",
            "0 0 0 \n",
            "\n"
          ]
        },
        {
          "output_type": "error",
          "ename": "AttributeError",
          "evalue": "ignored",
          "traceback": [
            "\u001b[0;31m---------------------------------------------------------------------------\u001b[0m",
            "\u001b[0;31mAttributeError\u001b[0m                            Traceback (most recent call last)",
            "\u001b[0;32m<ipython-input-31-8e6d3444aee0>\u001b[0m in \u001b[0;36m<cell line: 6>\u001b[0;34m()\u001b[0m\n\u001b[1;32m      4\u001b[0m \u001b[0mprint\u001b[0m\u001b[0;34m(\u001b[0m\u001b[0;34m'A ='\u001b[0m\u001b[0;34m,\u001b[0m \u001b[0mA\u001b[0m\u001b[0;34m)\u001b[0m\u001b[0;34m\u001b[0m\u001b[0;34m\u001b[0m\u001b[0m\n\u001b[1;32m      5\u001b[0m \u001b[0;34m\u001b[0m\u001b[0m\n\u001b[0;32m----> 6\u001b[0;31m \u001b[0mA\u001b[0m \u001b[0;34m=\u001b[0m \u001b[0mA\u001b[0m\u001b[0;34m.\u001b[0m\u001b[0mquitafila\u001b[0m\u001b[0;34m(\u001b[0m\u001b[0;36m2\u001b[0m\u001b[0;34m)\u001b[0m\u001b[0;34m\u001b[0m\u001b[0;34m\u001b[0m\u001b[0m\n\u001b[0m\u001b[1;32m      7\u001b[0m \u001b[0mprint\u001b[0m\u001b[0;34m(\u001b[0m\u001b[0;34m'A = '\u001b[0m\u001b[0;34m,\u001b[0m \u001b[0mA\u001b[0m\u001b[0;34m)\u001b[0m\u001b[0;34m\u001b[0m\u001b[0;34m\u001b[0m\u001b[0m\n\u001b[1;32m      8\u001b[0m \u001b[0;34m\u001b[0m\u001b[0m\n",
            "\u001b[0;31mAttributeError\u001b[0m: 'Matriz' object has no attribute 'quitafila'"
          ]
        }
      ],
      "source": [
        "# Realiza las pruebas a la clase aquí\n",
        "\n",
        "A = Matriz(n=3, m=4)\n",
        "print('A =', A)\n",
        "\n",
        "A = A.quitafila(2)\n",
        "print('A = ', A)\n",
        "\n",
        "B = Matriz(4,4,'diag')\n",
        "print('B = ', B)\n",
        "\n",
        "C = Matriz(4,1,'unos')\n",
        "print('C =', C)\n",
        "\n",
        "D = 3 * B * C\n",
        "print('D = ', D)\n",
        "\n",
        "E = 3 * B + C\n",
        "print('E = ', E)"
      ]
    },
    {
      "cell_type": "code",
      "source": [],
      "metadata": {
        "id": "a_D4kzGhzAR9"
      },
      "execution_count": null,
      "outputs": []
    }
  ],
  "metadata": {
    "kernelspec": {
      "display_name": "ing-caract",
      "language": "python",
      "name": "python3"
    },
    "language_info": {
      "codemirror_mode": {
        "name": "ipython",
        "version": 3
      },
      "file_extension": ".py",
      "mimetype": "text/x-python",
      "name": "python",
      "nbconvert_exporter": "python",
      "pygments_lexer": "ipython3",
      "version": "3.9.6"
    },
    "orig_nbformat": 4,
    "colab": {
      "provenance": [],
      "include_colab_link": true
    }
  },
  "nbformat": 4,
  "nbformat_minor": 0
}